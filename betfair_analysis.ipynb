{
 "cells": [
  {
   "cell_type": "markdown",
   "metadata": {},
   "source": [
    "## Betfair Historical Data Visualisation\n",
    "Begin by importing some packages that we'll need later."
   ]
  },
  {
   "cell_type": "code",
   "execution_count": 1,
   "metadata": {},
   "outputs": [],
   "source": [
    "from pyspark.sql import SparkSession        # For Spark.\n",
    "from pyspark.sql.functions import explode   # Explodes lists into rows.\n",
    "from pyspark.sql.functions import countDistinct\n",
    "\n",
    "import bz2file as bz2                       # To decompress the Betfair data files.\n",
    "import glob2 as glob                        # To scan across folders looking for data files.\n",
    "import json                                 # To decode Betfair data.\n",
    "from pyspark.sql.types import *             # For authoring the RDD schema.\n",
    "import time                                 # For time string conversion.\n",
    "import matplotlib.pyplot as pyplot          # For plotting graphs."
   ]
  },
  {
   "cell_type": "markdown",
   "metadata": {},
   "source": [
    "Start up Spark."
   ]
  },
  {
   "cell_type": "code",
   "execution_count": 2,
   "metadata": {},
   "outputs": [
    {
     "name": "stdout",
     "output_type": "stream",
     "text": [
      "Spark started.\n"
     ]
    }
   ],
   "source": [
    "spark = SparkSession.builder.appName('BetFair').getOrCreate()\n",
    "sc = spark.sparkContext\n",
    "print('Spark started.')"
   ]
  },
  {
   "cell_type": "markdown",
   "metadata": {},
   "source": [
    "Scan across the folder that contains Betfair data, making a list of filenames found."
   ]
  },
  {
   "cell_type": "code",
   "execution_count": 3,
   "metadata": {},
   "outputs": [
    {
     "name": "stdout",
     "output_type": "stream",
     "text": [
      "Number of files found = 8692\n"
     ]
    }
   ],
   "source": [
    "filelist = glob.glob('./data/**/*.bz2')\n",
    "print('Number of files found =', len(filelist))"
   ]
  },
  {
   "cell_type": "markdown",
   "metadata": {},
   "source": [
    "This function decompresses file, and then decodes and parses the JSON inside each file. It's based on this,\n",
    "https://stackoverflow.com/questions/31185812/processing-bzipped-json-file-in-spark"
   ]
  },
  {
   "cell_type": "code",
   "execution_count": 4,
   "metadata": {},
   "outputs": [],
   "source": [
    "def read_fun_generator(filename):\n",
    "    with bz2.open(filename, 'rb') as f:\n",
    "        for line in f:\n",
    "            # decode - turns binary object into string.\n",
    "            # json.loads - turns JSON string into Python dictionary.\n",
    "            yield json.loads(line.strip().decode())"
   ]
  },
  {
   "cell_type": "markdown",
   "metadata": {},
   "source": [
    "Make an RDD out of the Betfair historical data, and have a look at 1 record in it - to check that everything looks OK."
   ]
  },
  {
   "cell_type": "code",
   "execution_count": 5,
   "metadata": {},
   "outputs": [
    {
     "name": "stdout",
     "output_type": "stream",
     "text": [
      "[{'op': 'mcm', 'clk': '6830158750', 'pt': 1529581496787, 'mc': [{'id': '1.144859490', 'marketDefinition': {'bspMarket': False, 'turnInPlayEnabled': False, 'persistenceEnabled': False, 'marketBaseRate': 5.0, 'eventId': '27732754', 'eventTypeId': '6231', 'numberOfWinners': 1, 'bettingType': 'ODDS', 'marketTime': '2018-08-02T11:00:00.000Z', 'suspendTime': '2018-08-02T11:00:00.000Z', 'bspReconciled': False, 'complete': True, 'inPlay': False, 'crossMatching': False, 'runnersVoidable': False, 'numberOfActiveRunners': 8, 'betDelay': 0, 'status': 'OPEN', 'runners': [{'status': 'ACTIVE', 'sortPriority': 1, 'id': 3558691, 'name': '0.00% and Below'}, {'status': 'ACTIVE', 'sortPriority': 2, 'id': 11544304, 'name': '0.25%'}, {'status': 'ACTIVE', 'sortPriority': 3, 'id': 3559427, 'name': '0.50%'}, {'status': 'ACTIVE', 'sortPriority': 4, 'id': 3467015, 'name': '0.75%'}, {'status': 'ACTIVE', 'sortPriority': 5, 'id': 3467016, 'name': '1.00%'}, {'status': 'ACTIVE', 'sortPriority': 6, 'id': 3559425, 'name': '1.25%'}, {'status': 'ACTIVE', 'sortPriority': 7, 'id': 3530782, 'name': '1.50%'}, {'status': 'ACTIVE', 'sortPriority': 8, 'id': 3559426, 'name': '1.75% and Above'}], 'regulators': ['MR_INT'], 'countryCode': 'GB', 'discountAllowed': True, 'timezone': 'Europe/London', 'openDate': '2016-03-21T15:00:00.000Z', 'version': 2266281908, 'name': 'Next MPC Announcement', 'eventName': 'UK Interest Rates'}}]}]\n"
     ]
    }
   ],
   "source": [
    "betfair_rdd = sc.parallelize(filelist).flatMap(read_fun_generator)\n",
    "print(betfair_rdd.take(1))"
   ]
  },
  {
   "cell_type": "markdown",
   "metadata": {},
   "source": [
    "In order to do SQL functions, etc. on this data, we need to convert the RDD to a DataFrame. It would be nice if Spark could infer the schema for itself, but this doesn't seem to work very well for JSONs with nested objects.\n",
    "\n",
    "This article describes the problems that the Spark auto schema inference has with complex JSON schemas,\n",
    "http://nadbordrozd.github.io/blog/2016/05/22/one-weird-trick-that-will-fix-your-pyspark-schemas/\n",
    "\n",
    "So, sadly, we have to provide the schema manually."
   ]
  },
  {
   "cell_type": "code",
   "execution_count": 6,
   "metadata": {},
   "outputs": [],
   "source": [
    "betfair_rdd_schema = StructType([\n",
    "    StructField('op', StringType(), True),\n",
    "    StructField('clk', StringType(), True),\n",
    "    StructField('pt', LongType(), True),\n",
    "    StructField('mc', ArrayType(\n",
    "        StructType([\n",
    "            StructField('id', StringType(), True),\n",
    "            StructField('marketDefinition', StructType([\n",
    "                StructField('bspMarket', BooleanType(), True),\n",
    "                StructField('turnInPlayEnabled', BooleanType(), True),\n",
    "                StructField('persistenceEnabled', BooleanType(), True),\n",
    "                StructField('marketBaseRate', DoubleType(), True),\n",
    "                StructField('eventId', StringType(), True),\n",
    "                StructField('eventTypeId', StringType(), True),\n",
    "                StructField('numberOfWinners', LongType(), True),\n",
    "                StructField('bettingType', StringType(), True),\n",
    "                StructField('marketTime', StringType(), True),\n",
    "                StructField('marketType', StringType(), True),\n",
    "                StructField('suspendTime', StringType(), True),\n",
    "                StructField('bspReconciled', BooleanType(), True),\n",
    "                StructField('complete', BooleanType(), True),\n",
    "                StructField('inPlay', BooleanType(), True),\n",
    "                StructField('crossMatching', BooleanType(), True),\n",
    "                StructField('runnersVoidable', BooleanType(), True),\n",
    "                StructField('settledTime', StringType(), True),\n",
    "                StructField('numberOfActiveRunners', LongType(), True),\n",
    "                StructField('betDelay', LongType(), True),\n",
    "                StructField('status', StringType(), True),\n",
    "                StructField('runners', ArrayType(\n",
    "                    StructType([\n",
    "                        StructField('status', StringType(), True),\n",
    "                        StructField('sortPriority', LongType(), True),\n",
    "                        StructField('id', LongType(), True),\n",
    "                        StructField('name', StringType(), True),\n",
    "                    ])\n",
    "                ), True),\n",
    "                StructField('regulators', ArrayType(\n",
    "                    StringType()\n",
    "                ), True),\n",
    "                StructField('countryCode', StringType(), True),\n",
    "                StructField('discountAllowed', BooleanType(), True),\n",
    "                StructField('timezone', StringType(), True),\n",
    "                StructField('openDate', StringType(), True),\n",
    "                StructField('version', LongType(), True),\n",
    "                StructField('name', StringType(), True),\n",
    "                StructField('eventName', StringType(), True)\n",
    "            ]), True),\n",
    "            StructField('rc', ArrayType(\n",
    "                StructType([\n",
    "                    StructField('ltp', DoubleType(), True),\n",
    "                    StructField('id', LongType(), True)\n",
    "                ])\n",
    "            ), True)\n",
    "        ])\n",
    "    ), True)\n",
    "])"
   ]
  },
  {
   "cell_type": "markdown",
   "metadata": {},
   "source": [
    "Now, using this schema, we can create the DataFrame from the RDD, and print the DataFrame schema to check that it looks OK. Let's also take a look at the start of 1 row in it."
   ]
  },
  {
   "cell_type": "code",
   "execution_count": 7,
   "metadata": {},
   "outputs": [
    {
     "name": "stdout",
     "output_type": "stream",
     "text": [
      "root\n",
      " |-- op: string (nullable = true)\n",
      " |-- clk: string (nullable = true)\n",
      " |-- pt: long (nullable = true)\n",
      " |-- mc: array (nullable = true)\n",
      " |    |-- element: struct (containsNull = true)\n",
      " |    |    |-- id: string (nullable = true)\n",
      " |    |    |-- marketDefinition: struct (nullable = true)\n",
      " |    |    |    |-- bspMarket: boolean (nullable = true)\n",
      " |    |    |    |-- turnInPlayEnabled: boolean (nullable = true)\n",
      " |    |    |    |-- persistenceEnabled: boolean (nullable = true)\n",
      " |    |    |    |-- marketBaseRate: double (nullable = true)\n",
      " |    |    |    |-- eventId: string (nullable = true)\n",
      " |    |    |    |-- eventTypeId: string (nullable = true)\n",
      " |    |    |    |-- numberOfWinners: long (nullable = true)\n",
      " |    |    |    |-- bettingType: string (nullable = true)\n",
      " |    |    |    |-- marketTime: string (nullable = true)\n",
      " |    |    |    |-- marketType: string (nullable = true)\n",
      " |    |    |    |-- suspendTime: string (nullable = true)\n",
      " |    |    |    |-- bspReconciled: boolean (nullable = true)\n",
      " |    |    |    |-- complete: boolean (nullable = true)\n",
      " |    |    |    |-- inPlay: boolean (nullable = true)\n",
      " |    |    |    |-- crossMatching: boolean (nullable = true)\n",
      " |    |    |    |-- runnersVoidable: boolean (nullable = true)\n",
      " |    |    |    |-- settledTime: string (nullable = true)\n",
      " |    |    |    |-- numberOfActiveRunners: long (nullable = true)\n",
      " |    |    |    |-- betDelay: long (nullable = true)\n",
      " |    |    |    |-- status: string (nullable = true)\n",
      " |    |    |    |-- runners: array (nullable = true)\n",
      " |    |    |    |    |-- element: struct (containsNull = true)\n",
      " |    |    |    |    |    |-- status: string (nullable = true)\n",
      " |    |    |    |    |    |-- sortPriority: long (nullable = true)\n",
      " |    |    |    |    |    |-- id: long (nullable = true)\n",
      " |    |    |    |    |    |-- name: string (nullable = true)\n",
      " |    |    |    |-- regulators: array (nullable = true)\n",
      " |    |    |    |    |-- element: string (containsNull = true)\n",
      " |    |    |    |-- countryCode: string (nullable = true)\n",
      " |    |    |    |-- discountAllowed: boolean (nullable = true)\n",
      " |    |    |    |-- timezone: string (nullable = true)\n",
      " |    |    |    |-- openDate: string (nullable = true)\n",
      " |    |    |    |-- version: long (nullable = true)\n",
      " |    |    |    |-- name: string (nullable = true)\n",
      " |    |    |    |-- eventName: string (nullable = true)\n",
      " |    |    |-- rc: array (nullable = true)\n",
      " |    |    |    |-- element: struct (containsNull = true)\n",
      " |    |    |    |    |-- ltp: double (nullable = true)\n",
      " |    |    |    |    |-- id: long (nullable = true)\n",
      "\n",
      "[Row(op='mcm', clk='6830158750', pt=1529581496787, mc=[Row(id='1.144859490', marketDefinition=Row(bspMarket=False, turnInPlayEnabled=False, persistenceEnabled=False, marketBaseRate=5.0, eventId='27732754', eventTypeId='6231', numberOfWinners=1, betti\n"
     ]
    }
   ],
   "source": [
    "betfair_df = spark.createDataFrame(betfair_rdd, betfair_rdd_schema)\n",
    "betfair_df.createOrReplaceTempView('betfair_rdd')\n",
    "\n",
    "betfair_df.printSchema()\n",
    "print(str(betfair_df.take(1))[0:250])"
   ]
  },
  {
   "cell_type": "markdown",
   "metadata": {},
   "source": [
    "You can see in this tree structure that almost all of the fields are inside an array called `mc` (which stands for 'Market Change'). Let's make a new DataFrame that explodes this array into 1 row for each element in `mc`."
   ]
  },
  {
   "cell_type": "code",
   "execution_count": 8,
   "metadata": {},
   "outputs": [],
   "source": [
    "mc_exploded = betfair_df.select('*', explode(betfair_df.mc).alias('mc_row'))"
   ]
  },
  {
   "cell_type": "markdown",
   "metadata": {},
   "source": [
    "The aim is to make 3 DataFrames, each of which contains an expolosion of one of the analytically useful arrays in the data as follows\n",
    "\n",
    "**market_definitions**<br>\n",
    "Filter to rows with `marketDefinition` not null. One row for each time a betting market is created or changes.\n",
    "\n",
    "**runners**<br>\n",
    "Filter to rows with `runners` not null. Explosion of `runners`. One row for each runner.\n",
    "\n",
    "**runner_changes**<br>\n",
    "Filter to rows with `rc` not null. Explosion of `rc`. One row for each time a runner's odds change.\n",
    "\n",
    "So, let's start by making the `market_definitions` DataFrame."
   ]
  },
  {
   "cell_type": "code",
   "execution_count": 9,
   "metadata": {},
   "outputs": [],
   "source": [
    "# Filter down to only the records that have marketDefinition.\n",
    "md_only = mc_exploded.filter(mc_exploded.mc_row.marketDefinition.isNotNull())\n",
    "\n",
    "# Explode the marketDefinition array.\n",
    "market_definitions = md_only.selectExpr('op AS operation_type',\n",
    "                                        'clk AS sequence_token',\n",
    "                                        'pt AS published_time',\n",
    "                                        'mc_row.id AS market_id',\n",
    "                                        'mc_row.rc AS rc',\n",
    "                                        'mc_row.marketDefinition.betDelay AS bet_delay',\n",
    "                                        'mc_row.marketDefinition.bettingType AS betting_type',\n",
    "                                        'mc_row.marketDefinition.bspMarket AS bsp_market',\n",
    "                                        'mc_row.marketDefinition.bspReconciled AS bsp_reconciled',\n",
    "                                        'mc_row.marketDefinition.complete AS complete',\n",
    "                                        'mc_row.marketDefinition.countryCode AS country_code',\n",
    "                                        'mc_row.marketDefinition.crossMatching AS cross_matching',\n",
    "                                        'mc_row.marketDefinition.discountAllowed AS discount_allowed',\n",
    "                                        'mc_row.marketDefinition.eventId AS event_id',\n",
    "                                        'mc_row.marketDefinition.eventName AS event_name',\n",
    "                                        'mc_row.marketDefinition.eventTypeId AS event_type_id',\n",
    "                                        'mc_row.marketDefinition.inPlay AS in_play',\n",
    "                                        'mc_row.marketDefinition.marketBaseRate AS market_base_rate',\n",
    "                                        'mc_row.marketDefinition.marketTime AS market_time',\n",
    "                                        'mc_row.marketDefinition.marketType AS market_type',\n",
    "                                        'mc_row.marketDefinition.numberOfActiveRunners AS number_of_active_runners',\n",
    "                                        'mc_row.marketDefinition.numberOfWinners AS number_of_winners',\n",
    "                                        'mc_row.marketDefinition.openDate AS open_date',\n",
    "                                        'mc_row.marketDefinition.persistenceEnabled AS persistence_enabled',\n",
    "                                        'mc_row.marketDefinition.runnersVoidable AS runners_voidable',\n",
    "                                        'mc_row.marketDefinition.settledTime AS settled_time',\n",
    "                                        'mc_row.marketDefinition.status AS status',\n",
    "                                        'mc_row.marketDefinition.suspendTime AS suspend_time',\n",
    "                                        'mc_row.marketDefinition.timezone AS timezone',\n",
    "                                        'mc_row.marketDefinition.turnInPlayEnabled AS turn_in_play_enabled',\n",
    "                                        'mc_row.marketDefinition.version AS version',\n",
    "                                        'mc_row.marketDefinition.name AS market_name',\n",
    "                                        'mc_row.marketDefinition.regulators AS regulators',\n",
    "                                        'mc_row.marketDefinition.runners AS runners')"
   ]
  },
  {
   "cell_type": "markdown",
   "metadata": {},
   "source": [
    "And now make the `runners` and `runner_changes` DataFrames."
   ]
  },
  {
   "cell_type": "code",
   "execution_count": 10,
   "metadata": {},
   "outputs": [],
   "source": [
    "# Filter down to only the records that have Runners.\n",
    "runners_only = market_definitions.filter(market_definitions.runners.isNotNull())\n",
    "\n",
    "# Explode the Runners array.\n",
    "runners_exploded = runners_only.select(market_definitions.operation_type,\n",
    "                                       market_definitions.published_time,\n",
    "                                       market_definitions.market_id,\n",
    "                                       market_definitions.market_name,\n",
    "                                       market_definitions.event_id,\n",
    "                                       market_definitions.event_name,\n",
    "                                       explode(market_definitions.runners).alias('runner_row'))\n",
    "\n",
    "# Select the useful fields, and give them user friendly names.\n",
    "runners = runners_exploded.selectExpr('operation_type',\n",
    "                                      'published_time',\n",
    "                                      'market_id',\n",
    "                                      'market_name',\n",
    "                                      'event_id',\n",
    "                                      'event_name',\n",
    "                                      'runner_row.id AS runner_id',\n",
    "                                      'runner_row.name AS runner_name',\n",
    "                                      'runner_row.status AS runner_status',\n",
    "                                      'runner_row.sortPriority AS runner_sort_priority')\n",
    "\n",
    "# Filter down to only the records that have rc (runner changes).\n",
    "rc_only = mc_exploded.filter(mc_exploded.mc_row.rc.isNotNull())\n",
    "\n",
    "# Explode the rc (runner changes) array.\n",
    "rc_exploded = rc_only.select(rc_only.op.alias('operation_type'),\n",
    "                             rc_only.pt.alias('published_time'),\n",
    "                             rc_only.mc_row.id.alias('market_id'),\n",
    "                             explode(rc_only.mc_row.rc).alias('runner_change_row'))\n",
    "\n",
    "# Select the useful fields, and give them user friendly names.\n",
    "runner_changes = rc_exploded.selectExpr('operation_type',\n",
    "                                        'published_time',\n",
    "                                        'market_id',\n",
    "                                        'runner_change_row.id AS runner_id',\n",
    "                                        'runner_change_row.ltp AS last_traded_price')"
   ]
  },
  {
   "cell_type": "markdown",
   "metadata": {},
   "source": [
    "Let's chop the data set down to a single event and betting market by making new DataFrames that select one market and event.<br>\n",
    "To see a list of possible events and markets you can use this code, which prints a list sorted by number of market changes (descending),\n",
    "~~~\n",
    "most_changes = runners.join(runner_changes, runners.runner_id == runner_changes.runner_id).select(\n",
    "                        runners.market_id,\n",
    "                        runners.event_name,\n",
    "                        runners.market_name,\n",
    "                        runner_changes.published_time,\n",
    "                        runner_changes.runner_id).groupBy('market_id',\n",
    "                                                          'event_name', \n",
    "                                                          'market_name').count().orderBy(['count'], ascending=False).collect()\n",
    "\n",
    "for mc in most_changes:\n",
    "    print(mc.market_id, mc.event_name, ':', mc.market_name)\n",
    "~~~\n",
    "In the code below, I've selected the Challenge Cup 2018 winner market. This is going to be relatively small number of rows, so it's OK to do a `collect()`. Nonetheless, it takes about 10 mins on my PC. You can monitor progress here <http://localhost:4040/jobs/>."
   ]
  },
  {
   "cell_type": "code",
   "execution_count": 109,
   "metadata": {},
   "outputs": [],
   "source": [
    "# This market_id is for the Challenge Cup 2018 winner market.\n",
    "selection_condition = \"market_id = '1.139297802'\"\n",
    "\n",
    "chosen_runners = runners.filter(selection_condition).selectExpr('market_id', \n",
    "                                                                'event_name', \n",
    "                                                                'market_name', \n",
    "                                                                'runner_id', \n",
    "                                                                'runner_name').distinct()\n",
    "\n",
    "# Runners have a 1:many relationship to Runner Changes, so do an inner join from Runners to Runner Changes.\n",
    "chosen_runner_changes = chosen_runners.join(runner_changes, chosen_runners.runner_id == runner_changes.runner_id).select(\n",
    "                        chosen_runners.market_id, \n",
    "                        chosen_runners.event_name, \n",
    "                        chosen_runners.market_name, \n",
    "                        chosen_runners.runner_id, \n",
    "                        chosen_runners.runner_name,\n",
    "                        runner_changes.published_time,\n",
    "                        runner_changes.last_traded_price\n",
    "                        ).orderBy('published_time').collect()"
   ]
  },
  {
   "cell_type": "markdown",
   "metadata": {},
   "source": [
    "Define some functions to help with data analysis and graph plotting."
   ]
  },
  {
   "cell_type": "code",
   "execution_count": 111,
   "metadata": {},
   "outputs": [],
   "source": [
    "# Betfair time seems to be in milliseconds, so this converts it to normal Unix epoch time in seconds.\n",
    "def betfair_to_epoch(betfair_time):\n",
    "    return betfair_time / 1000\n",
    "\n",
    "# Convert a string like '30.08.2018 17:30:00' to a time number.\n",
    "def string_to_epoch(time_str):\n",
    "    pattern = '%d.%m.%Y %H:%M:%S'\n",
    "    return time.mktime(time.strptime(time_str, pattern))"
   ]
  },
  {
   "cell_type": "markdown",
   "metadata": {},
   "source": [
    "There could be a lot of runners. If they are all plotted on the graph, then it will be hard to read. Plus, there are a limited number of colours available for plotting - and we need each runner to have their own colour.\n",
    "So we need to select a smaller number of runners to be plotted.<br><br>\n",
    "The idea is to select runners to be plotted who meet the following criteria,\n",
    "* They were favourites in the betting - that is to say, at some time they had one of the the lowest prices.\n",
    "* They had a large amount of bets placed on them - that is to say a relatively high volume of trades."
   ]
  },
  {
   "cell_type": "code",
   "execution_count": 114,
   "metadata": {},
   "outputs": [],
   "source": [
    "# Plot data inside this date range.\n",
    "from_time = string_to_epoch('25.08.2018 14:00:00')\n",
    "to_time = string_to_epoch('26.08.2018 19:00:00')\n",
    "\n",
    "# Make a dictionary of the lowest prices that each runner achieved.\n",
    "runner_lowest_price = {}       # Key=runner_id, Value=Lowest price they traded at.\n",
    "runner_volume = {}             # Key=runner_id, Value=Number of market change events they had.\n",
    "total_volume = 0               # Total number of market change events (total for all runners).\n",
    "\n",
    "# Analyse all of the runner changes for the selected market.\n",
    "for rc in chosen_runner_changes:\n",
    "    if (    betfair_to_epoch(rc.published_time) >= from_time \n",
    "        and betfair_to_epoch(rc.published_time) <= to_time):\n",
    "    \n",
    "        if not rc.runner_id in runner_lowest_price:\n",
    "            runner_lowest_price[rc.runner_id] = rc.last_traded_price\n",
    "        elif rc.last_traded_price < runner_lowest_price[rc.runner_id]:\n",
    "            runner_lowest_price[rc.runner_id] = rc.last_traded_price\n",
    "\n",
    "        if not rc.runner_id in runner_volume:\n",
    "            runner_volume[rc.runner_id] = 1\n",
    "        else:\n",
    "            runner_volume[rc.runner_id] = runner_volume[rc.runner_id] + 1\n",
    "\n",
    "        total_volume += 1\n",
    "\n",
    "# List of colours that will be used later on for plotting lines.\n",
    "colours = ['blue', 'green', 'red', 'cyan', 'magenta','yellow', 'black']\n",
    "            \n",
    "# Pick runners with lowest prices and high enough volumes, and put their keys into the best_runners list.\n",
    "# These are the runners that will have their data plotted.\n",
    "best_runners = []\n",
    "\n",
    "for i in range(len(runner_lowest_price)):         # All of the runners will be considered as possible to be plotted.\n",
    "    # Next runner to be considered is the one who traded at the lowest price.\n",
    "    best_left = min(runner_lowest_price, key=runner_lowest_price.get)\n",
    "    \n",
    "    if (i < len(colours)                                         # Can't pick more runners than there are colours to plot.\n",
    "        and (runner_volume[best_left] / total_volume) > 0.01):   # Runner must be subject of at least 1% of the data points.\n",
    "            best_runners.append(best_left)\n",
    "    \n",
    "    del runner_lowest_price[best_left]                           # Remove runner that has just been considered from the list."
   ]
  },
  {
   "cell_type": "markdown",
   "metadata": {},
   "source": [
    "Now actually plot the graph."
   ]
  },
  {
   "cell_type": "code",
   "execution_count": 115,
   "metadata": {},
   "outputs": [
    {
     "data": {
      "image/png": "[encoded data removed]",
      "text/plain": [
       "<Figure size 1152x576 with 1 Axes>"
      ]
     },
     "metadata": {
      "needs_background": "light"
     },
     "output_type": "display_data"
    }
   ],
   "source": [
    "fig, ax = pyplot.subplots(nrows=1, ncols=1, figsize=(16, 8))\n",
    "curr_colour = 0\n",
    "\n",
    "sample_size = 1        # Can be adjusted to smooth out data if there are outlier prices sometimes.\n",
    "\n",
    "# Plot graphs for the list of best runners (lowest priced runners) found in previous cell.\n",
    "for br in best_runners:\n",
    "    one_runner_x = []\n",
    "    one_runner_y = []\n",
    "\n",
    "    samples = []                          # Buffer of recent last_traded_price for this runner.\n",
    "    for rc in chosen_runner_changes:\n",
    "        if (rc.runner_id == br \n",
    "            and betfair_to_epoch(rc.published_time) >= from_time \n",
    "            and betfair_to_epoch(rc.published_time) <= to_time):\n",
    "\n",
    "            if len(samples) >= sample_size:        # If the samples buffer is full...\n",
    "                del samples[0]                     # ... remove the oldest item from it.\n",
    "                \n",
    "            samples.append(rc.last_traded_price)\n",
    "\n",
    "            # Only plot this data point if the samples buffer is full sized.\n",
    "            if len(samples) >= sample_size:\n",
    "                one_runner_x.append(betfair_to_epoch(rc.published_time))\n",
    "                one_runner_y.append(1 / max(samples))  # Use median price paid in samples buffer.\n",
    "                one_runner_name = rc.runner_name\n",
    "\n",
    "    if len(samples) >= sample_size:\n",
    "        ax.plot(one_runner_x, one_runner_y, color = colours[curr_colour], label = one_runner_name)\n",
    "        curr_colour += 1\n",
    "\n",
    "pyplot.legend(loc='upper left')\n",
    "\n",
    "ax.set(ylabel='Implied Probability',\n",
    "       title=chosen_runner_changes[0].event_name + ' : ' + chosen_runner_changes[0].market_name)\n",
    "\n",
    "# Reformat the x axis tick labels.\n",
    "x_locs, x_labels = pyplot.xticks()\n",
    "new_x_labels = []\n",
    "new_x_locs = []\n",
    "for l in x_locs[1:-1]:                   # Omit the first and last ticks.\n",
    "    new_x_locs.append(l)\n",
    "    \n",
    "    # Reformat the x axis tick labels from numbers into nice date/time text format.\n",
    "    new_x_labels.append(time.strftime('%d-%b-%y %H:%M', time.localtime(l)))\n",
    "pyplot.xticks(new_x_locs, new_x_labels)\n",
    "\n",
    "# Reformat the y axis tick labels.\n",
    "y_locs, y_labels = pyplot.yticks()\n",
    "new_y_labels = []\n",
    "new_y_locs = []\n",
    "for l in y_locs[1:-1]:                   # Omit the first and last ticks.\n",
    "    new_y_locs.append(l)\n",
    "    \n",
    "    # Reformat the y axis tick labels from decimals into nice percentage text format.\n",
    "    new_y_labels.append(str(int(l * 100)) + '%')\n",
    "pyplot.yticks(new_y_locs, new_y_labels)\n",
    "\n",
    "pyplot.show()"
   ]
  },
  {
   "cell_type": "markdown",
   "metadata": {},
   "source": [
    "The graphs are pretty credible, as Warrington Warriors would have been favourites going into the game, but Catalan Dragons won it <https://en.wikipedia.org/wiki/2018_Challenge_Cup#Final>.<br>\n",
    "\n",
    "Shutdown Spark."
   ]
  },
  {
   "cell_type": "code",
   "execution_count": 291,
   "metadata": {},
   "outputs": [
    {
     "name": "stdout",
     "output_type": "stream",
     "text": [
      "Spark stopped.\n"
     ]
    }
   ],
   "source": [
    "spark.stop()\n",
    "print('Spark stopped.')"
   ]
  }
 ],
 "metadata": {
  "kernelspec": {
   "display_name": "Python 3",
   "language": "python",
   "name": "python3"
  },
  "language_info": {
   "codemirror_mode": {
    "name": "ipython",
    "version": 3
   },
   "file_extension": ".py",
   "mimetype": "text/x-python",
   "name": "python",
   "nbconvert_exporter": "python",
   "pygments_lexer": "ipython3",
   "version": "3.7.2"
  }
 },
 "nbformat": 4,
 "nbformat_minor": 2
}
